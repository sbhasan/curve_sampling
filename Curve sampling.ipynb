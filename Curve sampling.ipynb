{
 "cells": [
  {
   "cell_type": "markdown",
   "id": "d91ae4f2",
   "metadata": {},
   "source": [
    "<h1><center>Uniform sampling of a curve</center></h1>\n",
    "\n",
    "Once for a job interview I was asked to find solution to the following sampling problem:\n",
    "\n",
    "Assume a parametric curve in the (x, y) plane as a function of t with t in [0, 1]\n",
    "\n",
    "Hence we have the following functions describing the curve:\n",
    "x(t), y(t)\n",
    "\n",
    "For example\n",
    "x(t) = 20*t*sin(t/10),\n",
    "y(t) = 3*exp(2*t)\n",
    "\n",
    "Sample the curves in Python for an arbitrary x(t), y(t) in such a way that\n",
    "- each segment between two adjacent points has equal length and\n",
    "- the total length of the curve is accurate down to a specified maximum error.\n",
    "\n",
    "The outcome should be:\n",
    "- how many points N are required?\n",
    "- the resampled functions in x(i), y(i), where i is an integer between 0 and N.\n",
    "\n",
    "Feel free to check if there are modules that can be of help (this is not a suggestion that there are any).\n",
    "It may help to take into account the local curvature to estimate the curve length.\n",
    "Ideally the process is \"fast\", as there may be hundreds of curves in a design.\n"
   ]
  },
  {
   "cell_type": "markdown",
   "id": "ed8766dd",
   "metadata": {},
   "source": [
    "<h1><center>Solution</center></h1>\n",
    "Steps to take:\n",
    "\n",
    "1. We know that t is in [0, 1], but the first step is to find the upperlimit T <= 1 such that the curve length is equal to the desired length for t in [0, T].\n",
    "\n",
    "2. Next we iteratively increase the number of samples for t in [0, T] such that every segment has the same size. With each iteration, check the total curve size realized which should be the same as desired within the specified error bound."
   ]
  },
  {
   "cell_type": "code",
   "execution_count": 36,
   "id": "481df728",
   "metadata": {},
   "outputs": [],
   "source": [
    "import numpy as np\n",
    "import typing\n",
    "import matplotlib.pyplot as plt\n",
    "from scipy.interpolate import interp1d\n",
    "%matplotlib inline"
   ]
  },
  {
   "cell_type": "markdown",
   "id": "2a0056b4",
   "metadata": {},
   "source": [
    "## Function definitions"
   ]
  },
  {
   "cell_type": "code",
   "execution_count": 55,
   "id": "65250709",
   "metadata": {},
   "outputs": [],
   "source": [
    "def find_t_given_curve_len(\n",
    "        curve_len_array:np.ndarray,\n",
    "        ref_curve_len_array:np.ndarray,\n",
    "        ref_t_array:np.ndarray\n",
    "):\n",
    "    \"\"\"Return the t_array which corresponds to the given curve_len_array\n",
    "    Args:\n",
    "        curve_len_array: np.ndarray, numpy array containing curve's length increasing with each segment\n",
    "        ref_curve_len: np.ndarray, numpy array containing the curve's length sampled over uniform t to interpolate on\n",
    "        ref_t_array: np.ndarray, numpy array contianing parameters t which are uniformly sampled\n",
    "    Returns:\n",
    "        np.ndarray containing values of parameter t corresponding to curve_len_array\n",
    "    \"\"\"\n",
    "    return np.interp(curve_len_array, ref_curve_len_array, ref_t_array)\n",
    "\n",
    "def find_curve_len(\n",
    "        x_t: typing.Callable,\n",
    "        y_t: typing.Callable,\n",
    "        t_array: np.ndarray,\n",
    ")->np.ndarray:\n",
    "    \"\"\"Given the parametric functions, returns an np array containing increasing curve length for each segment\n",
    "    Args:\n",
    "        x_t: function, defines x(t)\n",
    "        y_t: function, defines y(t)\n",
    "        t_array: np.ndarray, parameter values to evaluate x(t) and y(t) on\n",
    "    Returns:\n",
    "        curve_len_array: np.ndarray, numpy array containing the curve's length increasing with each segment\n",
    "    \"\"\"\n",
    "    # produce the curve for the given sample\n",
    "    x, y = x_t(t_array), y_t(t_array)\n",
    "    segment_len_array = np.zeros(t_array.size)\n",
    "    segment_len_array[1:] = np.sqrt((x[1:] - x[:-1]) ** 2 + (y[1:] - y[:-1]) ** 2)\n",
    "    curve_len_array = np.cumsum(segment_len_array)\n",
    "    return curve_len_array\n",
    "\n",
    "def find_upper_limit_T(\n",
    "        x_t: typing.Callable,\n",
    "        y_t: typing.Callable,\n",
    "        target_curve_len: float\n",
    ")->typing.Tuple[float, np.ndarray, np.ndarray]:\n",
    "    \"\"\"Determine the upper limit T such that t in [0, T] gives a curve length of target_curve_len\n",
    "    Args:\n",
    "        x_t: function that determines x(t)\n",
    "        y_t: function that determines y(t)\n",
    "        target_curve_len: float, desired length of the curve\n",
    "    Returns:\n",
    "        T: float, upper limit T in [0, T] for the parameter t that produces curve with given length\n",
    "        curve_len_array: np.ndarray, array containing curve's length sampled for t in [0, 1]\n",
    "        t_array: np.ndarray, array containing uniformly sampled parameter t in [0, 1]        \n",
    "    \"\"\"\n",
    "    # create a fine sample of curve with t such that it adequately samples it\n",
    "    t_array = np.linspace(0, 1, 10000)\n",
    "\n",
    "    # calculate the curve length\n",
    "    curve_len_array = find_curve_len(x_t, y_t, t_array)\n",
    "\n",
    "    # finally we invert the curve_len_array to determine the upper-bound T of the parameter t\n",
    "    T = np.interp(target_curve_len, curve_len_array, t_array)\n",
    "    return T, curve_len_array, t_array\n",
    "\n",
    "def myplot(\n",
    "    x:np.ndarray,\n",
    "    y:np.ndarray,\n",
    "    style:str = None,\n",
    "    *,\n",
    "    xlabel:str = None,\n",
    "    ylabel:str = None,\n",
    "    title:str = None,\n",
    "    aspect:str = None\n",
    "):\n",
    "    \"\"\"Function to produce plots according to my preferences\"\"\"\n",
    "    fig, ax = plt.subplots(constrained_layout=True)\n",
    "    if style is None:\n",
    "        ax.plot(x, y, linewidth = 2)\n",
    "    else:\n",
    "        ax.plot(x, y, style, linewidth = 2)\n",
    "            \n",
    "    \n",
    "    if xlabel is not None:\n",
    "        ax.set_xlabel(xlabel)\n",
    "    if ylabel is not None:\n",
    "        ax.set_ylabel(ylabel)\n",
    "    if title is not None:\n",
    "        ax.set_title(title)\n",
    "    if aspect is not None:\n",
    "        ax.set_aspect(aspect)\n",
    "    return fig, ax\n",
    "\n",
    "# I like latex fonts, comment out this segment if it causes error during execution\n",
    "plt.rcParams.update({\n",
    "    \"text.usetex\": True,\n",
    "    \"font.size\": 16,\n",
    "  \"font.family\": \"Helvetica\"\n",
    "})\n",
    "    "
   ]
  },
  {
   "cell_type": "markdown",
   "id": "21af4a05",
   "metadata": {},
   "source": [
    "## Input parameters and the main body"
   ]
  },
  {
   "cell_type": "code",
   "execution_count": 59,
   "id": "a28b64b6",
   "metadata": {},
   "outputs": [
    {
     "name": "stdout",
     "output_type": "stream",
     "text": [
      "Number of curve segments = 9, curve length = 4.9995806972992005\n"
     ]
    }
   ],
   "source": [
    "#####################################input configuration#####################################\n",
    "\n",
    "target_curve_len = 5 # desired length of the curve, it should be achievable for t in [0, 1]\n",
    "t_interval = [0, 1] # interval of the parameter t (defined in the question)\n",
    "error_bound = 1e-4 # error bound on the length of the realized curve\n",
    "max_num_segments = 10000 # maximum number of curve sampling allowed to prevent the algorithm from running indefinitely\n",
    "\n",
    "# define functions x(t) and y(t)\n",
    "x_t = lambda t: 20*t*np.sin(t/10) # function x(t)\n",
    "y_t = lambda t: 3*np.exp(t**2) # function y(t)\n",
    "\n",
    "###################################end configuration###################################\n",
    "\n",
    "# first we need to determine the parameter T such that t in [0, T] yields a curve whose size is target_curve_len\n",
    "T, ref_curve_len_array, ref_t_array = find_upper_limit_T(x_t, y_t, target_curve_len)\n",
    "\n",
    "# ensure that the returned curve has the same length as desired in the target_curve_len\n",
    "if (ref_curve_len_array[-1] < target_curve_len):\n",
    "    raise Exception(\"The desired curve length cannot be reached with t in [0, 1]\")\n",
    "\n",
    "# now we need to uniformly sample the curve such that its length is within the error bounds\n",
    "\n",
    "output_curve_len = 0\n",
    "num_segments = 0 # 1 segment means two points and so on\n",
    "while (np.abs(output_curve_len - target_curve_len)/target_curve_len > error_bound):\n",
    "    num_segments += 1\n",
    "    curve_len_array = np.linspace(0, target_curve_len, num_segments+1)\n",
    "    t_array = find_t_given_curve_len(curve_len_array, ref_curve_len_array, ref_t_array)\n",
    "    curve_len_array = find_curve_len(x_t, y_t, t_array)\n",
    "    output_curve_len = curve_len_array[-1]\n",
    "#         print(\"segments = {}\".format(num_segments))\n",
    "    if (num_segments > max_num_segments):\n",
    "        raise Exception(\"Maximum number of curve segments reached, stopping computation\")\n",
    "\n",
    "\n",
    "# now that we know T and num_segments, let us produce the output curve\n",
    "print(\"Number of curve segments = {}, curve length = {}\".format(t_array.size, output_curve_len))\n",
    "x_out, y_out = x_t(t_array), y_t(t_array)"
   ]
  },
  {
   "cell_type": "markdown",
   "id": "b6d44f0f",
   "metadata": {},
   "source": [
    "## Plotting results"
   ]
  },
  {
   "cell_type": "code",
   "execution_count": 62,
   "id": "1f56818f",
   "metadata": {},
   "outputs": [
    {
     "data": {
      "image/png": "[encoded data removed]",
      "text/plain": [
       "<Figure size 432x288 with 1 Axes>"
      ]
     },
     "metadata": {
      "needs_background": "light"
     },
     "output_type": "display_data"
    },
    {
     "data": {
      "image/png": "[encoded data removed]",
      "text/plain": [
       "<Figure size 432x288 with 1 Axes>"
      ]
     },
     "metadata": {
      "needs_background": "light"
     },
     "output_type": "display_data"
    },
    {
     "data": {
      "image/png": "[encoded data removed]",
      "text/plain": [
       "<Figure size 432x288 with 1 Axes>"
      ]
     },
     "metadata": {
      "needs_background": "light"
     },
     "output_type": "display_data"
    }
   ],
   "source": [
    "plot_settings = {\n",
    "    \"xlabel\":\"Segment number $n$\",\n",
    "    \"ylabel\":\"Curve length $l$\"\n",
    "}\n",
    "\n",
    "fig, ax = myplot(range(1, t_array.size), curve_len_array[1:],'o--', **plot_settings)\n",
    "\n",
    "plot_settings[\"ylabel\"] = \"Segment length $s$\"\n",
    "fig, ax = myplot(range(1, t_array.size), curve_len_array[1:] - curve_len_array[:-1],'o--', **plot_settings)\n",
    "\n",
    "plot_settings[\"xlabel\"] = \"$x(t)$\"\n",
    "plot_settings[\"ylabel\"] = \"$y(t)$\"\n",
    "plot_settings[\"aspect\"] = \"equal\"\n",
    "fig, ax = myplot(x_out, y_out, 'o--', **plot_settings)"
   ]
  },
  {
   "cell_type": "markdown",
   "id": "e923d8c4",
   "metadata": {},
   "source": [
    "## Final remarks\n",
    "\n",
    "1. Considering the first figure, we see that the curve length increases linearly with increasing number of curve segments. This demonstrates that each segment is of equal length\n",
    "2. Likewise, the second (i.e. middle) figure shows the size of each segment versus segment number. This too is identical up to 10^{-3}. This again confirms that we did a decent job.\n",
    "3. Let us lastly consider the plot y(t) vs x(t). Note the figure has a skewed aspect ratio to ensure the grid shape is square. Otherwise, it's surprisingly easy to believe upon visual inspection that segment lengths are not equal. \n",
    "\n",
    "Lastly, the part where we determine the upper limit T can run into inaccuracies if x(t), y(t) have sufficiently fast oscillations. A better job at preventing that is possible by iteratively increasing sampling resolution for parameter t until the curve stabilizes. Perhaps some day if I have the motivation I will fix that part."
   ]
  },
  {
   "cell_type": "code",
   "execution_count": null,
   "id": "2aa9fd28",
   "metadata": {},
   "outputs": [],
   "source": []
  }
 ],
 "metadata": {
  "kernelspec": {
   "display_name": "Python 3 (ipykernel)",
   "language": "python",
   "name": "python3"
  },
  "language_info": {
   "codemirror_mode": {
    "name": "ipython",
    "version": 3
   },
   "file_extension": ".py",
   "mimetype": "text/x-python",
   "name": "python",
   "nbconvert_exporter": "python",
   "pygments_lexer": "ipython3",
   "version": "3.9.12"
  }
 },
 "nbformat": 4,
 "nbformat_minor": 5
}
